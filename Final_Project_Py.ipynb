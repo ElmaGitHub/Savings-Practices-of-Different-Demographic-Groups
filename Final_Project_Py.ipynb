{
 "cells": [
  {
   "cell_type": "markdown",
   "id": "797e5f21",
   "metadata": {},
   "source": [
    "# Scenario 1"
   ]
  },
  {
   "cell_type": "code",
   "execution_count": null,
   "id": "eb6a0247",
   "metadata": {},
   "outputs": [],
   "source": [
    "#########One proportion z test"
   ]
  },
  {
   "cell_type": "code",
   "execution_count": 24,
   "id": "24b7e6fd",
   "metadata": {},
   "outputs": [],
   "source": [
    "import numpy as np\n",
    "from statsmodels.stats.proportion import proportions_ztest"
   ]
  },
  {
   "cell_type": "code",
   "execution_count": 25,
   "id": "38cdb163",
   "metadata": {},
   "outputs": [
    {
     "name": "stdout",
     "output_type": "stream",
     "text": [
      "2.9229268377264077 0.0034675798365736213\n"
     ]
    }
   ],
   "source": [
    "count = 28\n",
    "nobs = 94\n",
    "value = 0.16\n",
    "stat, pval = proportions_ztest(count, nobs, value)\n",
    "print(stat,pval)"
   ]
  },
  {
   "cell_type": "code",
   "execution_count": null,
   "id": "d660d897",
   "metadata": {},
   "outputs": [],
   "source": [
    "#conclusion: p-value < 0.05 then we reject the null hypothesis and the hypothetical level of fraud is not equal to 16%"
   ]
  },
  {
   "cell_type": "markdown",
   "id": "43eceee9",
   "metadata": {},
   "source": [
    "# Scenario 2"
   ]
  },
  {
   "cell_type": "code",
   "execution_count": null,
   "id": "c3e4084c",
   "metadata": {},
   "outputs": [],
   "source": [
    "##############Independent chi-square"
   ]
  },
  {
   "cell_type": "code",
   "execution_count": 26,
   "id": "1f49438d",
   "metadata": {},
   "outputs": [],
   "source": [
    "import numpy as np\n",
    "import pandas as pd\n",
    "import seaborn as sns\n",
    "from scipy import stats\n",
    "import scipy\n",
    "from statsmodels.stats.multicomp import pairwise_tukeyhsd\n",
    "from statsmodels.stats.multicomp import MultiComparison"
   ]
  },
  {
   "cell_type": "code",
   "execution_count": 27,
   "id": "1192326d",
   "metadata": {},
   "outputs": [
    {
     "data": {
      "text/html": [
       "<div>\n",
       "<style scoped>\n",
       "    .dataframe tbody tr th:only-of-type {\n",
       "        vertical-align: middle;\n",
       "    }\n",
       "\n",
       "    .dataframe tbody tr th {\n",
       "        vertical-align: top;\n",
       "    }\n",
       "\n",
       "    .dataframe thead th {\n",
       "        text-align: right;\n",
       "    }\n",
       "</style>\n",
       "<table border=\"1\" class=\"dataframe\">\n",
       "  <thead>\n",
       "    <tr style=\"text-align: right;\">\n",
       "      <th></th>\n",
       "      <th>Clinic</th>\n",
       "      <th>AS</th>\n",
       "      <th>Count</th>\n",
       "    </tr>\n",
       "  </thead>\n",
       "  <tbody>\n",
       "    <tr>\n",
       "      <th>0</th>\n",
       "      <td>1</td>\n",
       "      <td>A</td>\n",
       "      <td>22</td>\n",
       "    </tr>\n",
       "    <tr>\n",
       "      <th>1</th>\n",
       "      <td>1</td>\n",
       "      <td>B</td>\n",
       "      <td>71</td>\n",
       "    </tr>\n",
       "    <tr>\n",
       "      <th>2</th>\n",
       "      <td>1</td>\n",
       "      <td>C</td>\n",
       "      <td>8</td>\n",
       "    </tr>\n",
       "    <tr>\n",
       "      <th>3</th>\n",
       "      <td>1</td>\n",
       "      <td>D</td>\n",
       "      <td>49</td>\n",
       "    </tr>\n",
       "    <tr>\n",
       "      <th>4</th>\n",
       "      <td>2</td>\n",
       "      <td>A</td>\n",
       "      <td>38</td>\n",
       "    </tr>\n",
       "    <tr>\n",
       "      <th>5</th>\n",
       "      <td>2</td>\n",
       "      <td>B</td>\n",
       "      <td>112</td>\n",
       "    </tr>\n",
       "    <tr>\n",
       "      <th>6</th>\n",
       "      <td>2</td>\n",
       "      <td>C</td>\n",
       "      <td>14</td>\n",
       "    </tr>\n",
       "    <tr>\n",
       "      <th>7</th>\n",
       "      <td>2</td>\n",
       "      <td>D</td>\n",
       "      <td>69</td>\n",
       "    </tr>\n",
       "    <tr>\n",
       "      <th>8</th>\n",
       "      <td>3</td>\n",
       "      <td>A</td>\n",
       "      <td>84</td>\n",
       "    </tr>\n",
       "    <tr>\n",
       "      <th>9</th>\n",
       "      <td>3</td>\n",
       "      <td>B</td>\n",
       "      <td>298</td>\n",
       "    </tr>\n",
       "    <tr>\n",
       "      <th>10</th>\n",
       "      <td>3</td>\n",
       "      <td>C</td>\n",
       "      <td>37</td>\n",
       "    </tr>\n",
       "    <tr>\n",
       "      <th>11</th>\n",
       "      <td>3</td>\n",
       "      <td>D</td>\n",
       "      <td>182</td>\n",
       "    </tr>\n",
       "  </tbody>\n",
       "</table>\n",
       "</div>"
      ],
      "text/plain": [
       "    Clinic AS  Count\n",
       "0        1  A     22\n",
       "1        1  B     71\n",
       "2        1  C      8\n",
       "3        1  D     49\n",
       "4        2  A     38\n",
       "5        2  B    112\n",
       "6        2  C     14\n",
       "7        2  D     69\n",
       "8        3  A     84\n",
       "9        3  B    298\n",
       "10       3  C     37\n",
       "11       3  D    182"
      ]
     },
     "execution_count": 27,
     "metadata": {},
     "output_type": "execute_result"
    }
   ],
   "source": [
    "df2 = pd.read_csv(\"C:/Users/User/Desktop/Intermediate_stat/antiseptics.csv\")\n",
    "df2.rename(columns={'Antiseptic Type ': \"AS\", \"Number of applications\": \"Count\"}, inplace=True)\n",
    "df2"
   ]
  },
  {
   "cell_type": "code",
   "execution_count": 28,
   "id": "f05f9b8c",
   "metadata": {},
   "outputs": [
    {
     "data": {
      "text/html": [
       "<div>\n",
       "<style scoped>\n",
       "    .dataframe tbody tr th:only-of-type {\n",
       "        vertical-align: middle;\n",
       "    }\n",
       "\n",
       "    .dataframe tbody tr th {\n",
       "        vertical-align: top;\n",
       "    }\n",
       "\n",
       "    .dataframe thead th {\n",
       "        text-align: right;\n",
       "    }\n",
       "</style>\n",
       "<table border=\"1\" class=\"dataframe\">\n",
       "  <thead>\n",
       "    <tr style=\"text-align: right;\">\n",
       "      <th>Clinic</th>\n",
       "      <th>1</th>\n",
       "      <th>2</th>\n",
       "      <th>3</th>\n",
       "    </tr>\n",
       "    <tr>\n",
       "      <th>AS</th>\n",
       "      <th></th>\n",
       "      <th></th>\n",
       "      <th></th>\n",
       "    </tr>\n",
       "  </thead>\n",
       "  <tbody>\n",
       "    <tr>\n",
       "      <th>A</th>\n",
       "      <td>22</td>\n",
       "      <td>38</td>\n",
       "      <td>84</td>\n",
       "    </tr>\n",
       "    <tr>\n",
       "      <th>B</th>\n",
       "      <td>71</td>\n",
       "      <td>112</td>\n",
       "      <td>298</td>\n",
       "    </tr>\n",
       "    <tr>\n",
       "      <th>C</th>\n",
       "      <td>8</td>\n",
       "      <td>14</td>\n",
       "      <td>37</td>\n",
       "    </tr>\n",
       "    <tr>\n",
       "      <th>D</th>\n",
       "      <td>49</td>\n",
       "      <td>69</td>\n",
       "      <td>182</td>\n",
       "    </tr>\n",
       "  </tbody>\n",
       "</table>\n",
       "</div>"
      ],
      "text/plain": [
       "Clinic   1    2    3\n",
       "AS                  \n",
       "A       22   38   84\n",
       "B       71  112  298\n",
       "C        8   14   37\n",
       "D       49   69  182"
      ]
     },
     "execution_count": 28,
     "metadata": {},
     "output_type": "execute_result"
    }
   ],
   "source": [
    "df2_pivot = pd.pivot_table(df2,index='AS',columns='Clinic',values=\"Count\")\n",
    "df2_pivot"
   ]
  },
  {
   "cell_type": "code",
   "execution_count": 8,
   "id": "5aae6ccd",
   "metadata": {},
   "outputs": [],
   "source": [
    "#assumption: we have more than 5 in each cell so the assumption is met for chi-square"
   ]
  },
  {
   "cell_type": "code",
   "execution_count": 29,
   "id": "739615fb",
   "metadata": {},
   "outputs": [
    {
     "data": {
      "text/plain": [
       "(1.225920250023835,\n",
       " 0.9755850789571424,\n",
       " 6,\n",
       " array([[ 21.95121951,  34.09756098,  87.95121951],\n",
       "        [ 73.32317073, 113.8953252 , 293.78150407],\n",
       "        [  8.99390244,  13.97052846,  36.03556911],\n",
       "        [ 45.73170732,  71.03658537, 183.23170732]]))"
      ]
     },
     "execution_count": 29,
     "metadata": {},
     "output_type": "execute_result"
    }
   ],
   "source": [
    "#run the test\n",
    "stats.chi2_contingency(df2_pivot)"
   ]
  },
  {
   "cell_type": "code",
   "execution_count": null,
   "id": "c7a7a748",
   "metadata": {},
   "outputs": [],
   "source": [
    "#Interpretation: p-value > 0.05, it looks like there is not a significant relationship between antiseptics and clinics\n",
    "#Conclusion: the usage of the four antiseptics is the same in the 3 clinics"
   ]
  },
  {
   "cell_type": "markdown",
   "id": "86d03384",
   "metadata": {},
   "source": [
    "# Scenario 3"
   ]
  },
  {
   "cell_type": "code",
   "execution_count": 10,
   "id": "dc6f72b8",
   "metadata": {},
   "outputs": [],
   "source": [
    "#One-Way ANOVA"
   ]
  },
  {
   "cell_type": "code",
   "execution_count": 30,
   "id": "85dd196b",
   "metadata": {},
   "outputs": [
    {
     "data": {
      "text/html": [
       "<div>\n",
       "<style scoped>\n",
       "    .dataframe tbody tr th:only-of-type {\n",
       "        vertical-align: middle;\n",
       "    }\n",
       "\n",
       "    .dataframe tbody tr th {\n",
       "        vertical-align: top;\n",
       "    }\n",
       "\n",
       "    .dataframe thead th {\n",
       "        text-align: right;\n",
       "    }\n",
       "</style>\n",
       "<table border=\"1\" class=\"dataframe\">\n",
       "  <thead>\n",
       "    <tr style=\"text-align: right;\">\n",
       "      <th></th>\n",
       "      <th>Group A</th>\n",
       "      <th>Group B</th>\n",
       "      <th>Group C</th>\n",
       "      <th>Group D</th>\n",
       "    </tr>\n",
       "  </thead>\n",
       "  <tbody>\n",
       "    <tr>\n",
       "      <th>0</th>\n",
       "      <td>21383.06</td>\n",
       "      <td>17077.54</td>\n",
       "      <td>13636.38</td>\n",
       "      <td>14582.73</td>\n",
       "    </tr>\n",
       "    <tr>\n",
       "      <th>1</th>\n",
       "      <td>19729.92</td>\n",
       "      <td>17258.06</td>\n",
       "      <td>5156.36</td>\n",
       "      <td>12880.28</td>\n",
       "    </tr>\n",
       "    <tr>\n",
       "      <th>2</th>\n",
       "      <td>24071.53</td>\n",
       "      <td>20652.91</td>\n",
       "      <td>4446.92</td>\n",
       "      <td>16412.72</td>\n",
       "    </tr>\n",
       "    <tr>\n",
       "      <th>3</th>\n",
       "      <td>19056.28</td>\n",
       "      <td>20845.06</td>\n",
       "      <td>4892.59</td>\n",
       "      <td>14020.00</td>\n",
       "    </tr>\n",
       "    <tr>\n",
       "      <th>4</th>\n",
       "      <td>19147.18</td>\n",
       "      <td>22296.64</td>\n",
       "      <td>14099.38</td>\n",
       "      <td>16467.70</td>\n",
       "    </tr>\n",
       "  </tbody>\n",
       "</table>\n",
       "</div>"
      ],
      "text/plain": [
       "    Group A   Group B   Group C   Group D\n",
       "0  21383.06  17077.54  13636.38  14582.73\n",
       "1  19729.92  17258.06   5156.36  12880.28\n",
       "2  24071.53  20652.91   4446.92  16412.72\n",
       "3  19056.28  20845.06   4892.59  14020.00\n",
       "4  19147.18  22296.64  14099.38  16467.70"
      ]
     },
     "execution_count": 30,
     "metadata": {},
     "output_type": "execute_result"
    }
   ],
   "source": [
    "df3 = pd.read_csv(\"C:/Users/User/Desktop/Intermediate_stat/savings.csv\")\n",
    "df3.head()"
   ]
  },
  {
   "cell_type": "markdown",
   "id": "d1129e33",
   "metadata": {},
   "source": [
    "### Data Wrangling"
   ]
  },
  {
   "cell_type": "code",
   "execution_count": 31,
   "id": "39610f1b",
   "metadata": {},
   "outputs": [
    {
     "data": {
      "text/html": [
       "<div>\n",
       "<style scoped>\n",
       "    .dataframe tbody tr th:only-of-type {\n",
       "        vertical-align: middle;\n",
       "    }\n",
       "\n",
       "    .dataframe tbody tr th {\n",
       "        vertical-align: top;\n",
       "    }\n",
       "\n",
       "    .dataframe thead th {\n",
       "        text-align: right;\n",
       "    }\n",
       "</style>\n",
       "<table border=\"1\" class=\"dataframe\">\n",
       "  <thead>\n",
       "    <tr style=\"text-align: right;\">\n",
       "      <th></th>\n",
       "      <th>Group</th>\n",
       "      <th>$</th>\n",
       "    </tr>\n",
       "  </thead>\n",
       "  <tbody>\n",
       "    <tr>\n",
       "      <th>0</th>\n",
       "      <td>Group A</td>\n",
       "      <td>21383.06</td>\n",
       "    </tr>\n",
       "    <tr>\n",
       "      <th>1</th>\n",
       "      <td>Group A</td>\n",
       "      <td>19729.92</td>\n",
       "    </tr>\n",
       "    <tr>\n",
       "      <th>2</th>\n",
       "      <td>Group A</td>\n",
       "      <td>24071.53</td>\n",
       "    </tr>\n",
       "    <tr>\n",
       "      <th>3</th>\n",
       "      <td>Group A</td>\n",
       "      <td>19056.28</td>\n",
       "    </tr>\n",
       "    <tr>\n",
       "      <th>4</th>\n",
       "      <td>Group A</td>\n",
       "      <td>19147.18</td>\n",
       "    </tr>\n",
       "    <tr>\n",
       "      <th>...</th>\n",
       "      <td>...</td>\n",
       "      <td>...</td>\n",
       "    </tr>\n",
       "    <tr>\n",
       "      <th>227</th>\n",
       "      <td>Group D</td>\n",
       "      <td>12180.86</td>\n",
       "    </tr>\n",
       "    <tr>\n",
       "      <th>228</th>\n",
       "      <td>Group D</td>\n",
       "      <td>12972.11</td>\n",
       "    </tr>\n",
       "    <tr>\n",
       "      <th>229</th>\n",
       "      <td>Group D</td>\n",
       "      <td>12068.83</td>\n",
       "    </tr>\n",
       "    <tr>\n",
       "      <th>230</th>\n",
       "      <td>Group D</td>\n",
       "      <td>16064.42</td>\n",
       "    </tr>\n",
       "    <tr>\n",
       "      <th>231</th>\n",
       "      <td>Group D</td>\n",
       "      <td>10884.26</td>\n",
       "    </tr>\n",
       "  </tbody>\n",
       "</table>\n",
       "<p>232 rows × 2 columns</p>\n",
       "</div>"
      ],
      "text/plain": [
       "       Group         $\n",
       "0    Group A  21383.06\n",
       "1    Group A  19729.92\n",
       "2    Group A  24071.53\n",
       "3    Group A  19056.28\n",
       "4    Group A  19147.18\n",
       "..       ...       ...\n",
       "227  Group D  12180.86\n",
       "228  Group D  12972.11\n",
       "229  Group D  12068.83\n",
       "230  Group D  16064.42\n",
       "231  Group D  10884.26\n",
       "\n",
       "[232 rows x 2 columns]"
      ]
     },
     "execution_count": 31,
     "metadata": {},
     "output_type": "execute_result"
    }
   ],
   "source": [
    "df3_expanded=pd.melt(df3,var_name='Group', value_name='$')\n",
    "df3_expanded"
   ]
  },
  {
   "cell_type": "code",
   "execution_count": 33,
   "id": "33327820",
   "metadata": {},
   "outputs": [
    {
     "data": {
      "text/html": [
       "<div>\n",
       "<style scoped>\n",
       "    .dataframe tbody tr th:only-of-type {\n",
       "        vertical-align: middle;\n",
       "    }\n",
       "\n",
       "    .dataframe tbody tr th {\n",
       "        vertical-align: top;\n",
       "    }\n",
       "\n",
       "    .dataframe thead th {\n",
       "        text-align: right;\n",
       "    }\n",
       "</style>\n",
       "<table border=\"1\" class=\"dataframe\">\n",
       "  <thead>\n",
       "    <tr style=\"text-align: right;\">\n",
       "      <th></th>\n",
       "      <th>Group</th>\n",
       "      <th>$</th>\n",
       "    </tr>\n",
       "  </thead>\n",
       "  <tbody>\n",
       "    <tr>\n",
       "      <th>0</th>\n",
       "      <td>0</td>\n",
       "      <td>21383.06</td>\n",
       "    </tr>\n",
       "    <tr>\n",
       "      <th>1</th>\n",
       "      <td>0</td>\n",
       "      <td>19729.92</td>\n",
       "    </tr>\n",
       "    <tr>\n",
       "      <th>2</th>\n",
       "      <td>0</td>\n",
       "      <td>24071.53</td>\n",
       "    </tr>\n",
       "    <tr>\n",
       "      <th>3</th>\n",
       "      <td>0</td>\n",
       "      <td>19056.28</td>\n",
       "    </tr>\n",
       "    <tr>\n",
       "      <th>4</th>\n",
       "      <td>0</td>\n",
       "      <td>19147.18</td>\n",
       "    </tr>\n",
       "  </tbody>\n",
       "</table>\n",
       "</div>"
      ],
      "text/plain": [
       "   Group         $\n",
       "0      0  21383.06\n",
       "1      0  19729.92\n",
       "2      0  24071.53\n",
       "3      0  19056.28\n",
       "4      0  19147.18"
      ]
     },
     "execution_count": 33,
     "metadata": {},
     "output_type": "execute_result"
    }
   ],
   "source": [
    "df4_expanded = df3_expanded.replace(df3.columns, [0,1,2,3])\n",
    "df4_expanded.head()"
   ]
  },
  {
   "cell_type": "markdown",
   "id": "3d9d5681",
   "metadata": {},
   "source": [
    "### Test Assumptions"
   ]
  },
  {
   "cell_type": "code",
   "execution_count": 34,
   "id": "24cecd00",
   "metadata": {},
   "outputs": [
    {
     "name": "stderr",
     "output_type": "stream",
     "text": [
      "C:\\Users\\User\\anaconda3\\lib\\site-packages\\seaborn\\distributions.py:2619: FutureWarning: `distplot` is a deprecated function and will be removed in a future version. Please adapt your code to use either `displot` (a figure-level function with similar flexibility) or `histplot` (an axes-level function for histograms).\n",
      "  warnings.warn(msg, FutureWarning)\n"
     ]
    },
    {
     "data": {
      "text/plain": [
       "<AxesSubplot:ylabel='Density'>"
      ]
     },
     "execution_count": 34,
     "metadata": {},
     "output_type": "execute_result"
    },
    {
     "data": {
      "image/png": "[encoded data removed]",
      "text/plain": [
       "<Figure size 432x288 with 1 Axes>"
      ]
     },
     "metadata": {
      "needs_background": "light"
     },
     "output_type": "display_data"
    }
   ],
   "source": [
    "#normality\n",
    "sns.distplot(df3.values[~np.isnan(df3.values)])"
   ]
  },
  {
   "cell_type": "code",
   "execution_count": null,
   "id": "c30f4842",
   "metadata": {},
   "outputs": [],
   "source": [
    "#almost normal no need for transformation"
   ]
  },
  {
   "cell_type": "code",
   "execution_count": 35,
   "id": "b6c0ffc3",
   "metadata": {},
   "outputs": [
    {
     "data": {
      "text/plain": [
       "BartlettResult(statistic=3639.1753663764925, pvalue=0.0)"
      ]
     },
     "execution_count": 35,
     "metadata": {},
     "output_type": "execute_result"
    }
   ],
   "source": [
    "#Homogeneity of Variance\n",
    "scipy.stats.bartlett(df4_expanded['$'], df4_expanded['Group'])"
   ]
  },
  {
   "cell_type": "code",
   "execution_count": null,
   "id": "b81639bb",
   "metadata": {},
   "outputs": [],
   "source": [
    "##p-value<0.05  unfortunately, wehave violated the assumption of homogeneity of variance."
   ]
  },
  {
   "cell_type": "code",
   "execution_count": null,
   "id": "23d0921c",
   "metadata": {},
   "outputs": [],
   "source": [
    "#sample size\n",
    "#we have 232 entries per IV > 20 so this assumption is met"
   ]
  },
  {
   "cell_type": "code",
   "execution_count": 36,
   "id": "10fa5756",
   "metadata": {},
   "outputs": [],
   "source": [
    "df3_expanded.dropna(inplace=True)"
   ]
  },
  {
   "cell_type": "code",
   "execution_count": 37,
   "id": "6788109e",
   "metadata": {},
   "outputs": [
    {
     "data": {
      "text/plain": [
       "F_onewayResult(statistic=203.25514198903812, pvalue=1.9933595578005075e-61)"
      ]
     },
     "execution_count": 37,
     "metadata": {},
     "output_type": "execute_result"
    }
   ],
   "source": [
    "stats.f_oneway(df3_expanded['$'][df3_expanded['Group']=='Group A'],\n",
    "                    df3_expanded['$'][df3_expanded['Group']=='Group B'],\n",
    "                    df3_expanded['$'][df3_expanded['Group']=='Group C'],\n",
    "              df3_expanded['$'][df3_expanded['Group']=='Group D'])"
   ]
  },
  {
   "cell_type": "code",
   "execution_count": null,
   "id": "d63eb3a2",
   "metadata": {},
   "outputs": [],
   "source": [
    "##p-value<0.05 there is a significant difference in price somewhere between the four levels of the independent variable"
   ]
  },
  {
   "cell_type": "code",
   "execution_count": 40,
   "id": "7b401e6d",
   "metadata": {},
   "outputs": [
    {
     "name": "stdout",
     "output_type": "stream",
     "text": [
      "      Multiple Comparison of Means - Tukey HSD, FWER=0.05       \n",
      "================================================================\n",
      " group1  group2   meandiff  p-adj    lower       upper    reject\n",
      "----------------------------------------------------------------\n",
      "Group A Group B  -4835.5416 0.001  -6431.1721   -3239.911   True\n",
      "Group A Group C -14174.3925 0.001 -15708.4436 -12640.3414   True\n",
      "Group A Group D  -8384.0728 0.001  -9898.9154  -6869.2303   True\n",
      "Group B Group C  -9338.8509 0.001 -10906.4072  -7771.2947   True\n",
      "Group B Group D  -3548.5313 0.001  -5097.2946   -1999.768   True\n",
      "Group C Group D   5790.3197 0.001   4305.0777   7275.5616   True\n",
      "----------------------------------------------------------------\n"
     ]
    }
   ],
   "source": [
    "postHoc = MultiComparison(df3_expanded['$'], df3_expanded['Group'])\n",
    "postHocResults = postHoc.tukeyhsd()\n",
    "print(postHocResults)"
   ]
  },
  {
   "cell_type": "code",
   "execution_count": null,
   "id": "5783a061",
   "metadata": {},
   "outputs": [],
   "source": [
    "#the pairwise comparison between all groups are significant\n",
    "#conclusion: the four demographics groups make different savings"
   ]
  },
  {
   "cell_type": "markdown",
   "id": "22278df6",
   "metadata": {},
   "source": [
    "# Scenario 4"
   ]
  },
  {
   "cell_type": "code",
   "execution_count": null,
   "id": "5934b4c4",
   "metadata": {},
   "outputs": [],
   "source": [
    "#Two proportion z test"
   ]
  },
  {
   "cell_type": "code",
   "execution_count": 18,
   "id": "ef6a9850",
   "metadata": {},
   "outputs": [
    {
     "name": "stdout",
     "output_type": "stream",
     "text": [
      "1.3156546893290748 0.18828996870412507\n"
     ]
    }
   ],
   "source": [
    "stat, pval = proportions_ztest([374, 171], [503, 245])\n",
    "print(stat,pval)"
   ]
  },
  {
   "cell_type": "code",
   "execution_count": null,
   "id": "4ead9d03",
   "metadata": {},
   "outputs": [],
   "source": [
    "##p-value>0.05 which means that the sample gives evidence there is not a significant difference in the proportions of favorable in either with or\n",
    "#without age children"
   ]
  }
 ],
 "metadata": {
  "kernelspec": {
   "display_name": "Python 3 (ipykernel)",
   "language": "python",
   "name": "python3"
  },
  "language_info": {
   "codemirror_mode": {
    "name": "ipython",
    "version": 3
   },
   "file_extension": ".py",
   "mimetype": "text/x-python",
   "name": "python",
   "nbconvert_exporter": "python",
   "pygments_lexer": "ipython3",
   "version": "3.9.7"
  }
 },
 "nbformat": 4,
 "nbformat_minor": 5
}
